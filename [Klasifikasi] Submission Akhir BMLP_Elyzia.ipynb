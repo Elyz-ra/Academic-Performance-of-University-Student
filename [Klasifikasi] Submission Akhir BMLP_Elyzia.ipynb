{
 "cells": [
  {
   "cell_type": "markdown",
   "metadata": {},
   "source": [
    "# **1. Import Library**"
   ]
  },
  {
   "cell_type": "markdown",
   "metadata": {},
   "source": [
    "Pada tahap ini, Anda perlu mengimpor beberapa pustaka (library) Python yang dibutuhkan untuk analisis data dan pembangunan model machine learning."
   ]
  },
  {
   "cell_type": "code",
   "execution_count": 65,
   "metadata": {},
   "outputs": [],
   "source": [
    "import pandas as pd\n",
    "import numpy as np\n",
    "import matplotlib.pyplot as plt\n",
    "import seaborn as sns\n",
    "from sklearn.model_selection import train_test_split, GridSearchCV\n",
    "from sklearn.preprocessing import StandardScaler\n",
    "from sklearn.tree import DecisionTreeClassifier\n",
    "from sklearn.ensemble import RandomForestClassifier\n",
    "from sklearn.metrics import accuracy_score, f1_score, confusion_matrix, classification_report"
   ]
  },
  {
   "cell_type": "markdown",
   "metadata": {},
   "source": [
    "# **2. Memuat Dataset dari Hasil Clustering**"
   ]
  },
  {
   "cell_type": "markdown",
   "metadata": {},
   "source": [
    "Memuat dataset hasil clustering dari file CSV ke dalam variabel DataFrame."
   ]
  },
  {
   "cell_type": "code",
   "execution_count": 66,
   "metadata": {},
   "outputs": [
    {
     "name": "stdout",
     "output_type": "stream",
     "text": [
      "<class 'pandas.core.frame.DataFrame'>\n",
      "RangeIndex: 3037 entries, 0 to 3036\n",
      "Data columns (total 15 columns):\n",
      " #   Column             Non-Null Count  Dtype  \n",
      "---  ------             --------------  -----  \n",
      " 0   ID No              3037 non-null   float64\n",
      " 1   Prog Code          3037 non-null   int64  \n",
      " 2   Gender             3037 non-null   int64  \n",
      " 3   YoG                3037 non-null   float64\n",
      " 4   CGPA               3037 non-null   float64\n",
      " 5   CGPA100            3037 non-null   float64\n",
      " 6   CGPA200            3037 non-null   float64\n",
      " 7   CGPA300            3037 non-null   float64\n",
      " 8   CGPA400            3037 non-null   float64\n",
      " 9   SGPA               3037 non-null   float64\n",
      " 10  CGPA_Binned        3037 non-null   int64  \n",
      " 11  Cluster            3037 non-null   int64  \n",
      " 12  Cluster_Optimized  3037 non-null   int64  \n",
      " 13  PC1                3037 non-null   float64\n",
      " 14  PC2                3037 non-null   float64\n",
      "dtypes: float64(10), int64(5)\n",
      "memory usage: 356.0 KB\n",
      "None\n",
      "     ID No  Prog Code  Gender     YoG  CGPA  CGPA100  CGPA200  CGPA300  \\\n",
      "0  42308.0          8       0  2010.0  3.23     2.88     3.48     2.62   \n",
      "1  70978.0          0       0  2010.0  3.58     3.25     4.26     3.37   \n",
      "2  31602.0          0       1  2010.0  2.21     1.78     1.98     1.49   \n",
      "3  63847.0          0       1  2010.0  2.70     2.67     2.44     2.00   \n",
      "4  30158.0          0       0  2010.0  3.88     3.61     3.69     3.63   \n",
      "\n",
      "   CGPA400  SGPA  CGPA_Binned  Cluster  Cluster_Optimized       PC1       PC2  \n",
      "0     2.90  3.13            1        0                  0 -1.304008 -1.490858  \n",
      "1     3.47  3.02            0        2                  2  0.227117 -1.644563  \n",
      "2     2.51  2.19            1        0                  0 -4.623225 -0.894636  \n",
      "3     2.35  3.19            1        0                  0 -2.961874 -1.805627  \n",
      "4     4.58  4.24            0        2                  2  1.505617 -1.653706  \n"
     ]
    }
   ],
   "source": [
    "df = pd.read_csv(\"hasil_clustering_mahasiswa.csv\")\n",
    "print(df.info())\n",
    "print(df.head())"
   ]
  },
  {
   "cell_type": "markdown",
   "metadata": {},
   "source": [
    "# **3. Data Splitting**"
   ]
  },
  {
   "cell_type": "markdown",
   "metadata": {},
   "source": [
    "Tahap Data Splitting bertujuan untuk memisahkan dataset menjadi dua bagian: data latih (training set) dan data uji (test set)."
   ]
  },
  {
   "cell_type": "code",
   "execution_count": 67,
   "metadata": {},
   "outputs": [],
   "source": [
    "X = df.drop(columns=[\"Cluster\"])\n",
    "y = df[\"Cluster\"]\n",
    "\n",
    "X_train, X_test, y_train, y_test = train_test_split(X, y, test_size=0.2, random_state=42, stratify=y)"
   ]
  },
  {
   "cell_type": "markdown",
   "metadata": {},
   "source": [
    "# **4. Membangun Model Klasifikasi**\n"
   ]
  },
  {
   "cell_type": "markdown",
   "metadata": {},
   "source": [
    "## **a. Membangun Model Klasifikasi**"
   ]
  },
  {
   "cell_type": "markdown",
   "metadata": {},
   "source": [
    "Setelah memilih algoritma klasifikasi yang sesuai, langkah selanjutnya adalah melatih model menggunakan data latih.\n",
    "\n",
    "- Menggunakan **Decision Tree** dan **Random Forest** untuk membandingkan performa model.\n"
   ]
  },
  {
   "cell_type": "code",
   "execution_count": 68,
   "metadata": {},
   "outputs": [
    {
     "name": "stdout",
     "output_type": "stream",
     "text": [
      "DecisionTreeClassifier(random_state=42)\n",
      "RandomForestClassifier(random_state=42)\n"
     ]
    }
   ],
   "source": [
    "# Membangun Model Klasifikasi dengan Decision Tree\n",
    "dt_model = DecisionTreeClassifier(random_state=42)\n",
    "dt_model.fit(X_train, y_train)\n",
    "print(dt_model)\n",
    "\n",
    "# Membangun Model klasifikasi dengan Random Forest\n",
    "rf_model = RandomForestClassifier(random_state=42)\n",
    "rf_model.fit(X_train, y_train)\n",
    "print(rf_model)"
   ]
  },
  {
   "cell_type": "markdown",
   "metadata": {},
   "source": [
    "Tulis narasi atau penjelasan algoritma yang Anda gunakan."
   ]
  },
  {
   "cell_type": "markdown",
   "metadata": {},
   "source": [
    "## **b. Evaluasi Model Klasifikasi**"
   ]
  },
  {
   "cell_type": "markdown",
   "metadata": {},
   "source": [
    "Berikut adalah **rekomendasi** tahapannya.\n",
    "1. Lakukan prediksi menggunakan data uji.\n",
    "2. Hitung metrik evaluasi seperti Accuracy dan F1-Score (Opsional: Precision dan Recall).\n",
    "3. Buat confusion matrix untuk melihat detail prediksi benar dan salah."
   ]
  },
  {
   "cell_type": "code",
   "execution_count": 69,
   "metadata": {},
   "outputs": [
    {
     "name": "stdout",
     "output_type": "stream",
     "text": [
      "Evaluasi Model: Decision Tree\n",
      "Accuracy: 1.0000\n",
      "F1-Score: 1.0000\n",
      "Confusion Matrix:\n",
      "[[164   0   0]\n",
      " [  0 183   0]\n",
      " [  0   0 261]]\n",
      "Classification Report:\n",
      "              precision    recall  f1-score   support\n",
      "\n",
      "           0     1.0000    1.0000    1.0000       164\n",
      "           1     1.0000    1.0000    1.0000       183\n",
      "           2     1.0000    1.0000    1.0000       261\n",
      "\n",
      "    accuracy                         1.0000       608\n",
      "   macro avg     1.0000    1.0000    1.0000       608\n",
      "weighted avg     1.0000    1.0000    1.0000       608\n",
      "\n",
      "\n",
      "\n"
     ]
    },
    {
     "data": {
      "image/png": "[encoded data removed]",
      "text/plain": [
       "<Figure size 600x400 with 2 Axes>"
      ]
     },
     "metadata": {},
     "output_type": "display_data"
    },
    {
     "name": "stdout",
     "output_type": "stream",
     "text": [
      "Evaluasi Model: Random Forest\n",
      "Accuracy: 1.0000\n",
      "F1-Score: 1.0000\n",
      "Confusion Matrix:\n",
      "[[164   0   0]\n",
      " [  0 183   0]\n",
      " [  0   0 261]]\n",
      "Classification Report:\n",
      "              precision    recall  f1-score   support\n",
      "\n",
      "           0     1.0000    1.0000    1.0000       164\n",
      "           1     1.0000    1.0000    1.0000       183\n",
      "           2     1.0000    1.0000    1.0000       261\n",
      "\n",
      "    accuracy                         1.0000       608\n",
      "   macro avg     1.0000    1.0000    1.0000       608\n",
      "weighted avg     1.0000    1.0000    1.0000       608\n",
      "\n",
      "\n",
      "\n"
     ]
    },
    {
     "data": {
      "image/png": "[encoded data removed]",
      "text/plain": [
       "<Figure size 600x400 with 2 Axes>"
      ]
     },
     "metadata": {},
     "output_type": "display_data"
    }
   ],
   "source": [
    "\n",
    "def evaluate_model(model, X_test, y_test, model_name):\n",
    "    y_pred = model.predict(X_test)\n",
    "    acc = accuracy_score(y_test, y_pred)\n",
    "    f1 = f1_score(y_test, y_pred, average='weighted')\n",
    "    cm = confusion_matrix(y_test, y_pred)\n",
    "    report = classification_report(y_test, y_pred, digits=4)\n",
    "    \n",
    "    print(f\"Evaluasi Model: {model_name}\")\n",
    "    print(f\"Accuracy: {acc:.4f}\")\n",
    "    print(f\"F1-Score: {f1:.4f}\")\n",
    "    print(\"Confusion Matrix:\")\n",
    "    print(cm)\n",
    "    print(\"Classification Report:\")\n",
    "    print(report)\n",
    "    print(\"\\n\")\n",
    "    \n",
    "    # Plot Confusion Matrix\n",
    "    plt.figure(figsize=(6, 4))\n",
    "    sns.heatmap(cm, annot=True, fmt=\"d\", cmap=\"Blues\", xticklabels=np.unique(y_test), yticklabels=np.unique(y_test))\n",
    "    plt.xlabel(\"Predicted\")\n",
    "    plt.ylabel(\"Actual\")\n",
    "    plt.title(f\"Confusion Matrix - {model_name}\")\n",
    "    plt.show()\n",
    "\n",
    "# Evaluasi Decision Tree\n",
    "evaluate_model(dt_model, X_test, y_test, \"Decision Tree\")\n",
    "\n",
    "# Evaluasi Random Forest\n",
    "evaluate_model(rf_model, X_test, y_test, \"Random Forest\")\n",
    "\n"
   ]
  },
  {
   "cell_type": "markdown",
   "metadata": {},
   "source": [
    "Tulis hasil evaluasi algoritma yang digunakan, jika Anda menggunakan 2 algoritma, maka bandingkan hasilnya."
   ]
  },
  {
   "cell_type": "markdown",
   "metadata": {},
   "source": [
    "## **c. Tuning Model Klasifikasi (Optional)**"
   ]
  },
  {
   "cell_type": "markdown",
   "metadata": {},
   "source": [
    "Gunakan GridSearchCV, RandomizedSearchCV, atau metode lainnya untuk mencari kombinasi hyperparameter terbaik"
   ]
  },
  {
   "cell_type": "code",
   "execution_count": 70,
   "metadata": {},
   "outputs": [
    {
     "name": "stdout",
     "output_type": "stream",
     "text": [
      "Best Decision Tree Model: DecisionTreeClassifier(max_depth=3, random_state=42)\n",
      "Best Random Forest Model: RandomForestClassifier(max_depth=5, n_estimators=50, random_state=42)\n"
     ]
    }
   ],
   "source": [
    "# Tuning Decision Tree Model\n",
    "param_grid = {\n",
    "    \"max_depth\": [3, 5, 10, None],\n",
    "    \"min_samples_split\": [2, 5, 10],\n",
    "    \"min_samples_leaf\": [1, 2, 4],\n",
    "}\n",
    "\n",
    "grid_search = GridSearchCV(DecisionTreeClassifier(random_state=42), param_grid, cv=5, scoring=\"accuracy\")\n",
    "grid_search.fit(X_train, y_train)\n",
    "\n",
    "dt_tuned = grid_search.best_estimator_\n",
    "print(f\"Best Decision Tree Model: {dt_tuned}\")\n",
    "\n",
    "# Tuning Random Forest Model\n",
    "rf_param_grid = {\n",
    "    \"n_estimators\": [50, 100, 200],\n",
    "    \"max_depth\": [5, 10, None],\n",
    "    \"min_samples_split\": [2, 5, 10],\n",
    "    \"min_samples_leaf\": [1, 2, 4],\n",
    "}\n",
    "\n",
    "rf_grid_search = GridSearchCV(RandomForestClassifier(random_state=42), rf_param_grid, cv=5, scoring=\"accuracy\")\n",
    "rf_grid_search.fit(X_train, y_train)\n",
    "\n",
    "rf_tuned = rf_grid_search.best_estimator_\n",
    "print(f\"Best Random Forest Model: {rf_tuned}\")"
   ]
  },
  {
   "cell_type": "markdown",
   "metadata": {},
   "source": [
    "## **d. Evaluasi Model Klasifikasi setelah Tuning (Optional)**"
   ]
  },
  {
   "cell_type": "markdown",
   "metadata": {},
   "source": [
    "Berikut adalah rekomendasi tahapannya.\n",
    "1. Gunakan model dengan hyperparameter terbaik.\n",
    "2. Hitung ulang metrik evaluasi untuk melihat apakah ada peningkatan performa."
   ]
  },
  {
   "cell_type": "code",
   "execution_count": 71,
   "metadata": {},
   "outputs": [
    {
     "name": "stdout",
     "output_type": "stream",
     "text": [
      "Evaluasi Model: Decision Tree (Tuned)\n",
      "Accuracy: 1.0000\n",
      "F1-Score: 1.0000\n",
      "Confusion Matrix:\n",
      "[[164   0   0]\n",
      " [  0 183   0]\n",
      " [  0   0 261]]\n",
      "Classification Report:\n",
      "              precision    recall  f1-score   support\n",
      "\n",
      "           0     1.0000    1.0000    1.0000       164\n",
      "           1     1.0000    1.0000    1.0000       183\n",
      "           2     1.0000    1.0000    1.0000       261\n",
      "\n",
      "    accuracy                         1.0000       608\n",
      "   macro avg     1.0000    1.0000    1.0000       608\n",
      "weighted avg     1.0000    1.0000    1.0000       608\n",
      "\n",
      "\n",
      "\n"
     ]
    },
    {
     "data": {
      "image/png": "[encoded data removed]",
      "text/plain": [
       "<Figure size 600x400 with 2 Axes>"
      ]
     },
     "metadata": {},
     "output_type": "display_data"
    },
    {
     "name": "stdout",
     "output_type": "stream",
     "text": [
      "Evaluasi Model: Random Forest (Tuned)\n",
      "Accuracy: 1.0000\n",
      "F1-Score: 1.0000\n",
      "Confusion Matrix:\n",
      "[[164   0   0]\n",
      " [  0 183   0]\n",
      " [  0   0 261]]\n",
      "Classification Report:\n",
      "              precision    recall  f1-score   support\n",
      "\n",
      "           0     1.0000    1.0000    1.0000       164\n",
      "           1     1.0000    1.0000    1.0000       183\n",
      "           2     1.0000    1.0000    1.0000       261\n",
      "\n",
      "    accuracy                         1.0000       608\n",
      "   macro avg     1.0000    1.0000    1.0000       608\n",
      "weighted avg     1.0000    1.0000    1.0000       608\n",
      "\n",
      "\n",
      "\n"
     ]
    },
    {
     "data": {
      "image/png": "[encoded data removed]",
      "text/plain": [
       "<Figure size 600x400 with 2 Axes>"
      ]
     },
     "metadata": {},
     "output_type": "display_data"
    },
    {
     "name": "stdout",
     "output_type": "stream",
     "text": [
      "Random Forest Training Accuracy: 1.0000\n",
      "Random Forest Testing Accuracy: 1.0000\n",
      "Decision Tree Training Accuracy: 1.0000\n",
      "Decision Tree Testing Accuracy: 1.0000\n"
     ]
    }
   ],
   "source": [
    "# Evaluasi Model Decision Tree setelah Tuning\n",
    "evaluate_model(dt_tuned, X_test, y_test, \"Decision Tree (Tuned)\")\n",
    "\n",
    "# Evaluasi Model Random Forest setelah Tuning\n",
    "evaluate_model(rf_tuned, X_test, y_test, \"Random Forest (Tuned)\")\n",
    "\n",
    "rf_train_acc = accuracy_score(y_train, rf_model.predict(X_train))\n",
    "rf_test_acc = accuracy_score(y_test, rf_model.predict(X_test))\n",
    "print(f\"Random Forest Training Accuracy: {rf_train_acc:.4f}\")\n",
    "print(f\"Random Forest Testing Accuracy: {rf_test_acc:.4f}\")\n",
    "\n",
    "train_acc = accuracy_score(y_train, dt_model.predict(X_train))\n",
    "test_acc = accuracy_score(y_test, dt_model.predict(X_test))\n",
    "print(f\"Decision Tree Training Accuracy: {train_acc:.4f}\")\n",
    "print(f\"Decision Tree Testing Accuracy: {test_acc:.4f}\")\n",
    "\n"
   ]
  },
  {
   "cell_type": "markdown",
   "metadata": {},
   "source": [
    "## **e. Analisis Hasil Evaluasi Model Klasifikasi**"
   ]
  },
  {
   "cell_type": "markdown",
   "metadata": {},
   "source": [
    "### 1.Evaluasi Model Decision Tree dan Random Forest \n",
    "Model yang digunakan dalam klasifikasi ini adalah Decision Tree dan Random Forest, baik sebelum dan sesudah tuning. Evaluasi dilakukan menggunakan metrik Accuracy, F1-Score, Confusion Matrix, dan Classification Report.\n",
    "\n",
    "### 2. Hasil Evaluasi\n",
    "#### a. Decision Tree (Sebelum dan Sesudah Tuning)\n",
    "- Accuracy: 1.0000\n",
    "- F1-Score: 1.0000\n",
    "- Confusion Matrix:\n",
    "[[164   0   0]\n",
    "[  0 183   0]\n",
    "[  0   0 261]]\n",
    "- Classification Report:\n",
    "Precision, Recall, dan F1-Score semuanya mencapai 1.0000 untuk setiap kelas.\n",
    "\n",
    "#### b. Random Forest (Sebelum dan Sesudah Tuning)\n",
    "- Accuracy: 1.0000\n",
    "- F1-Score: 1.0000\n",
    "- Confusion Matrix:\n",
    "[[164   0   0]\n",
    "[  0 183   0]\n",
    "[  0   0 261]]\n",
    "- Classification Report:\n",
    "Sama seperti Decision Tree, Precision, Recall, dan F1-Score semuanya mencapai 1.0000 untuk setiap kelas.\n",
    "\n",
    "## 3. Interpretasi Hasil\n",
    "1. Overfitting Kemungkinan Besar Terjadi\n",
    "- Semua metrik evaluasi menunjukkan nilai sempurna (1.0000), yang sangat jarang terjadi dalam masalah klasifikasi nyata. Ini mengindikasikan bahwa model mungkin mengalami overfitting terhadap data pelatihan. \n",
    "- Performa yang terlalu tinggi dapat terjadi jika model terlalu kompleks atau data memiliki pola yang sangat jelas tanpa variabilitas yang signifikan.\n",
    "\n",
    "2. Kemungkinan Masalah dalam Data\n",
    "- Bisa jadi dataset tidak memiliki cukup variasi atau terdapat data leakage, di mana fitur yang digunakan untuk prediksi memiliki korelasi langsung dengan label target.\n",
    "- Perlu dilakukan eksplorasi lebih lanjut terhadap distribusi fitur dan kemungkinan kebocoran data.\n",
    "\n",
    "3. Perbandingan Decision Tree dan Random Forest\n",
    "- Baik Decision Tree maupun Random Forest memberikan hasil yang sama.\n",
    "- Random Forest biasanya lebih kuat dalam menghindari overfitting dibanding Decision Tree, tetapi dalam kasus ini, hasilnya tetap sama.\n",
    "- Hal ini mengindikasikan bahwa dataset memiliki pola yang sangat deterministik atau ada permasalahan pada proses pembagian data.\n",
    "\n",
    "## 4. Rekomendasi Perbaikan\n",
    "- Cek Pembagian Data: Pastikan bahwa data yang digunakan dalam pelatihan dan pengujian tidak memiliki kebocoran.\n",
    "- Evaluasi Feature Importance: Periksa fitur mana yang paling berkontribusi terhadap prediksi untuk mengidentifikasi kemungkinan fitur yang terlalu dominan.\n",
    "- Gunakan Data Augmentation atau Regularisasi: Jika memungkinkan, tambahkan variasi pada data atau gunakan teknik regularisasi seperti pruning untuk Decision Tree atau pengurangan jumlah estimator pada Random Forest.\n",
    "- Uji dengan Data Baru: Model yang overfitting mungkin bekerja sangat baik pada data pelatihan tetapi buruk pada data yang benar-benar baru."
   ]
  }
 ],
 "metadata": {
  "kernelspec": {
   "display_name": "Python 3",
   "language": "python",
   "name": "python3"
  },
  "language_info": {
   "codemirror_mode": {
    "name": "ipython",
    "version": 3
   },
   "file_extension": ".py",
   "mimetype": "text/x-python",
   "name": "python",
   "nbconvert_exporter": "python",
   "pygments_lexer": "ipython3",
   "version": "3.12.0"
  }
 },
 "nbformat": 4,
 "nbformat_minor": 2
}
